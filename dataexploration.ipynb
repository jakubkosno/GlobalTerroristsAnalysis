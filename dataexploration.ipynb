{
 "cells": [
  {
   "cell_type": "markdown",
   "source": [
    "**Exploration of Global Terrorism Database**\n",
    "\n",
    "Get data from https://www.kaggle.com/START-UMD/gtd:"
   ],
   "metadata": {
    "collapsed": false,
    "pycharm": {
     "name": "#%% md\n"
    }
   }
  },
  {
   "cell_type": "code",
   "source": [
    "import kaggle\n",
    "import os.path\n",
    "\n",
    "try:\n",
    "    kaggle.api.authenticate()\n",
    "    kaggle.api.dataset_download_files('START-UMD/gtd', path='./data/', unzip=True)\n",
    "\n",
    "    if os.path.isfile(\"data/globalterrorismdb_0718dist.csv\"):\n",
    "        print(\"Dataset loaded successfully.\")\n",
    "except:\n",
    "    print(\"Something went wrong, perhaps you don't have access to kaggle.\")"
   ],
   "metadata": {
    "collapsed": false,
    "pycharm": {
     "name": "#%%\n"
    }
   },
   "execution_count": 15,
   "outputs": [
    {
     "name": "stdout",
     "output_type": "stream",
     "text": [
      "Dataset loaded successfully.\n"
     ]
    }
   ]
  },
  {
   "cell_type": "markdown",
   "source": [
    "Load data from downloaded .csv file:"
   ],
   "metadata": {
    "collapsed": false
   }
  },
  {
   "cell_type": "code",
   "execution_count": 19,
   "outputs": [
    {
     "name": "stdout",
     "output_type": "stream",
     "text": [
      "<class 'pandas.core.frame.DataFrame'>\n"
     ]
    }
   ],
   "source": [
    "import pandas\n",
    "\n",
    "dataset = pandas.read_csv(\"data/globalterrorismdb_0718dist.csv\", encoding='latin-1', low_memory=False)\n"
   ],
   "metadata": {
    "collapsed": false,
    "pycharm": {
     "name": "#%%\n"
    }
   }
  }
 ],
 "metadata": {
  "kernelspec": {
   "name": "pycharm-9dc852c6",
   "language": "python",
   "display_name": "PyCharm (GlobalTerroristsAnalysis)"
  },
  "language_info": {
   "codemirror_mode": {
    "name": "ipython",
    "version": 2
   },
   "file_extension": ".py",
   "mimetype": "text/x-python",
   "name": "python",
   "nbconvert_exporter": "python",
   "pygments_lexer": "ipython2",
   "version": "2.7.6"
  }
 },
 "nbformat": 4,
 "nbformat_minor": 0
}