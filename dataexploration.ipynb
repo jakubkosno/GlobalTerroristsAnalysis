{
 "cells": [
  {
   "cell_type": "markdown",
   "source": [
    "**Exploration of Global Terrorism Database**\n",
    "\n",
    "Get data from https://www.kaggle.com/START-UMD/gtd:"
   ],
   "metadata": {
    "collapsed": false,
    "pycharm": {
     "name": "#%% md\n"
    }
   }
  },
  {
   "cell_type": "code",
   "source": [
    "import kaggle\n",
    "import os.path\n",
    "\n",
    "try:\n",
    "    kaggle.api.authenticate()\n",
    "    kaggle.api.dataset_download_files('START-UMD/gtd', path='./data/', unzip=True)\n",
    "\n",
    "    if os.path.isfile(\"data/globalterrorismdb_0718dist.csv\"):\n",
    "        print(\"Dataset loaded successfully.\")\n",
    "except:\n",
    "    print(\"Something went wrong, perhaps you don't have access to kaggle.\")"
   ],
   "metadata": {
    "collapsed": false,
    "pycharm": {
     "name": "#%%\n"
    }
   },
   "execution_count": 1,
   "outputs": [
    {
     "name": "stdout",
     "output_type": "stream",
     "text": [
      "Dataset loaded successfully.\n"
     ]
    }
   ]
  },
  {
   "cell_type": "markdown",
   "source": [
    "Load data from downloaded .csv file:"
   ],
   "metadata": {
    "collapsed": false
   }
  },
  {
   "cell_type": "code",
   "execution_count": 2,
   "outputs": [],
   "source": [
    "import pandas\n",
    "\n",
    "dataset = pandas.read_csv(\"data/globalterrorismdb_0718dist.csv\", encoding='latin-1', low_memory=False)\n"
   ],
   "metadata": {
    "collapsed": false,
    "pycharm": {
     "name": "#%%\n"
    }
   }
  },
  {
   "cell_type": "markdown",
   "source": [
    "Remove columns missing more than 50% of data:"
   ],
   "metadata": {
    "collapsed": false,
    "pycharm": {
     "name": "#%% md\n"
    }
   }
  },
  {
   "cell_type": "code",
   "execution_count": 3,
   "outputs": [],
   "source": [
    "missing_data = dict()\n",
    "for column in dataset.columns:\n",
    "     missing_data[column] = 100 * sum([1 if item == True else 0 for item in dataset[column].isnull()]) / dataset[column].size\n",
    "\n",
    "dataset = dataset[[column for column in dataset.columns if missing_data[column] < 50]]\n"
   ],
   "metadata": {
    "collapsed": false,
    "pycharm": {
     "name": "#%%\n"
    }
   }
  },
  {
   "cell_type": "markdown",
   "source": [
    "Plot how terrorism rate changed over the years:"
   ],
   "metadata": {
    "collapsed": false,
    "pycharm": {
     "name": "#%% md\n"
    }
   }
  },
  {
   "cell_type": "code",
   "execution_count": 22,
   "outputs": [
    {
     "data": {
      "text/plain": "<Figure size 432x288 with 1 Axes>",
      "image/png": "[encoded data removed]"
     },
     "metadata": {
      "needs_background": "light"
     },
     "output_type": "display_data"
    }
   ],
   "source": [
    "import matplotlib.axes\n",
    "import matplotlib.pyplot\n",
    "\n",
    "figure = matplotlib.pyplot.figure()\n",
    "plot = figure.add_subplot(111)\n",
    "plot.set_xlabel(\"Year\")\n",
    "plot.set_ylabel(\"Number of events\")\n",
    "plot.set_title(\"Terrorism over the years\")\n",
    "_ = plot.hist(dataset[\"iyear\"])"
   ],
   "metadata": {
    "collapsed": false,
    "pycharm": {
     "name": "#%%\n"
    }
   }
  }
 ],
 "metadata": {
  "kernelspec": {
   "name": "pycharm-9dc852c6",
   "language": "python",
   "display_name": "PyCharm (GlobalTerroristsAnalysis)"
  },
  "language_info": {
   "codemirror_mode": {
    "name": "ipython",
    "version": 2
   },
   "file_extension": ".py",
   "mimetype": "text/x-python",
   "name": "python",
   "nbconvert_exporter": "python",
   "pygments_lexer": "ipython2",
   "version": "2.7.6"
  }
 },
 "nbformat": 4,
 "nbformat_minor": 0
}