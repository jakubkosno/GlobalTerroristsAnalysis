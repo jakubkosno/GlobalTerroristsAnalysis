{
 "cells": [
  {
   "cell_type": "markdown",
   "source": [
    "**Exploration of Global Terrorism Database**\n",
    "\n",
    "Get data from https://www.kaggle.com/START-UMD/gtd:"
   ],
   "metadata": {
    "collapsed": false,
    "pycharm": {
     "name": "#%% md\n"
    }
   }
  },
  {
   "cell_type": "code",
   "source": [
    "import kaggle\n",
    "import os.path\n",
    "\n",
    "try:\n",
    "    kaggle.api.authenticate()\n",
    "    kaggle.api.dataset_download_files('START-UMD/gtd', path='./data/', unzip=True)\n",
    "\n",
    "    if os.path.isfile(\"data/globalterrorismdb_0718dist.csv\"):\n",
    "        print(\"Dataset loaded successfully.\")\n",
    "except:\n",
    "    print(\"Something went wrong, perhaps you don't have access to kaggle.\")"
   ],
   "metadata": {
    "collapsed": false,
    "pycharm": {
     "name": "#%%\n"
    }
   },
   "execution_count": 72,
   "outputs": [
    {
     "name": "stdout",
     "output_type": "stream",
     "text": [
      "Dataset loaded successfully.\n"
     ]
    }
   ]
  },
  {
   "cell_type": "markdown",
   "source": [
    "Load data from downloaded .csv file:"
   ],
   "metadata": {
    "collapsed": false
   }
  },
  {
   "cell_type": "code",
   "execution_count": 73,
   "outputs": [],
   "source": [
    "import pandas\n",
    "\n",
    "dataset = pandas.read_csv(\"data/globalterrorismdb_0718dist.csv\", encoding='latin-1', low_memory=False)\n"
   ],
   "metadata": {
    "collapsed": false,
    "pycharm": {
     "name": "#%%\n"
    }
   }
  },
  {
   "cell_type": "markdown",
   "source": [
    "List columns present in dataset and check which of them lacks most data:"
   ],
   "metadata": {
    "collapsed": false,
    "pycharm": {
     "name": "#%% md\n"
    }
   }
  },
  {
   "cell_type": "code",
   "execution_count": 74,
   "outputs": [
    {
     "name": "stdout",
     "output_type": "stream",
     "text": [
      "eventid  misses:  0.0 % entries.\n",
      "iyear  misses:  0.0 % entries.\n",
      "imonth  misses:  0.0 % entries.\n",
      "iday  misses:  0.0 % entries.\n",
      "approxdate  misses:  94.91499303762983 % entries.\n",
      "extended  misses:  0.0 % entries.\n",
      "resolution  misses:  98.7781453126462 % entries.\n",
      "country  misses:  0.0 % entries.\n",
      "country_txt  misses:  0.0 % entries.\n",
      "region  misses:  0.0 % entries.\n",
      "region_txt  misses:  0.0 % entries.\n",
      "provstate  misses:  0.23171208260177995 % entries.\n",
      "city  misses:  0.23886708752772565 % entries.\n",
      "latitude  misses:  2.507554034046816 % entries.\n",
      "longitude  misses:  2.5081044190411195 % entries.\n",
      "specificity  misses:  0.0033023099658210917 % entries.\n",
      "vicinity  misses:  0.0 % entries.\n",
      "location  misses:  69.45638474112641 % entries.\n",
      "summary  misses:  36.396409288297164 % entries.\n",
      "crit1  misses:  0.0 % entries.\n",
      "crit2  misses:  0.0 % entries.\n",
      "crit3  misses:  0.0 % entries.\n",
      "doubtterr  misses:  0.0005503849943035153 % entries.\n",
      "alternative  misses:  84.03278093026071 % entries.\n",
      "alternative_txt  misses:  84.03278093026071 % entries.\n",
      "multiple  misses:  0.0005503849943035153 % entries.\n",
      "success  misses:  0.0 % entries.\n",
      "suicide  misses:  0.0 % entries.\n",
      "attacktype1  misses:  0.0 % entries.\n",
      "attacktype1_txt  misses:  0.0 % entries.\n",
      "attacktype2  misses:  96.5248691459676 % entries.\n",
      "attacktype2_txt  misses:  96.5248691459676 % entries.\n",
      "attacktype3  misses:  99.7644352224381 % entries.\n",
      "attacktype3_txt  misses:  99.7644352224381 % entries.\n",
      "targtype1  misses:  0.0 % entries.\n",
      "targtype1_txt  misses:  0.0 % entries.\n",
      "targsubtype1  misses:  5.709143545910364 % entries.\n",
      "targsubtype1_txt  misses:  5.709143545910364 % entries.\n",
      "corp1  misses:  23.418881507614575 % entries.\n",
      "target1  misses:  0.35004485637703575 % entries.\n",
      "natlty1  misses:  0.8580502061191804 % entries.\n",
      "natlty1_txt  misses:  0.8580502061191804 % entries.\n",
      "targtype2  misses:  93.86650962348162 % entries.\n",
      "targtype2_txt  misses:  93.86650962348162 % entries.\n",
      "targsubtype2  misses:  94.11913633586694 % entries.\n",
      "targsubtype2_txt  misses:  94.11913633586694 % entries.\n",
      "corp2  misses:  94.43175501263134 % entries.\n",
      "target2  misses:  93.93475736277526 % entries.\n",
      "natlty2  misses:  94.04043128168153 % entries.\n",
      "natlty2_txt  misses:  94.04043128168153 % entries.\n",
      "targtype3  misses:  99.35274724669907 % entries.\n",
      "targtype3_txt  misses:  99.35274724669907 % entries.\n",
      "targsubtype3  misses:  99.39622766124904 % entries.\n",
      "targsubtype3_txt  misses:  99.39622766124904 % entries.\n",
      "corp3  misses:  99.43530499584459 % entries.\n",
      "target3  misses:  99.35329763169337 % entries.\n",
      "natlty3  misses:  99.36870841153387 % entries.\n",
      "natlty3_txt  misses:  99.36870841153387 % entries.\n",
      "gname  misses:  0.0 % entries.\n",
      "gsubname  misses:  96.7582323835523 % entries.\n",
      "gname2  misses:  98.89207500646702 % entries.\n",
      "gsubname2  misses:  99.91193840091144 % entries.\n",
      "gname3  misses:  99.82167526184566 % entries.\n",
      "gsubname3  misses:  99.98899230011394 % entries.\n",
      "motive  misses:  72.17198430301997 % entries.\n",
      "guncertain1  misses:  0.2091462978353358 % entries.\n",
      "guncertain2  misses:  98.92399733613662 % entries.\n",
      "guncertain3  misses:  99.82387680182288 % entries.\n",
      "individual  misses:  0.0 % entries.\n",
      "nperps  misses:  39.14062886989449 % entries.\n",
      "nperpcap  misses:  38.24570286915697 % entries.\n",
      "claimed  misses:  36.39145582334843 % entries.\n",
      "claimmode  misses:  89.49700315370602 % entries.\n",
      "claimmode_txt  misses:  89.49700315370602 % entries.\n",
      "claim2  misses:  98.95977236076635 % entries.\n",
      "claimmode2  misses:  99.66096284350904 % entries.\n",
      "claimmode2_txt  misses:  99.66096284350904 % entries.\n",
      "claim3  misses:  99.82497757181149 % entries.\n",
      "claimmode3  misses:  99.92679879575763 % entries.\n",
      "claimmode3_txt  misses:  99.92679879575763 % entries.\n",
      "compclaim  misses:  97.33668701256529 % entries.\n",
      "weaptype1  misses:  0.0 % entries.\n",
      "weaptype1_txt  misses:  0.0 % entries.\n",
      "weapsubtype1  misses:  11.430395561695406 % entries.\n",
      "weapsubtype1_txt  misses:  11.430395561695406 % entries.\n",
      "weaptype2  misses:  92.77509617977775 % entries.\n",
      "weaptype2_txt  misses:  92.77509617977775 % entries.\n",
      "weapsubtype2  misses:  93.64745639574883 % entries.\n",
      "weapsubtype2_txt  misses:  93.64745639574883 % entries.\n",
      "weaptype3  misses:  98.97463275561255 % entries.\n",
      "weaptype3_txt  misses:  98.97463275561255 % entries.\n",
      "weapsubtype3  misses:  99.06819820464415 % entries.\n",
      "weapsubtype3_txt  misses:  99.06819820464415 % entries.\n",
      "weaptype4  misses:  99.95982189541584 % entries.\n",
      "weaptype4_txt  misses:  99.95982189541584 % entries.\n",
      "weapsubtype4  misses:  99.96147305039875 % entries.\n",
      "weapsubtype4_txt  misses:  99.96147305039875 % entries.\n",
      "weapdetail  misses:  37.244552564518884 % entries.\n",
      "nkill  misses:  5.6761204462521535 % entries.\n",
      "nkillus  misses:  35.470111342884344 % entries.\n",
      "nkillter  misses:  36.85267844857478 % entries.\n",
      "nwound  misses:  8.977329642084639 % entries.\n",
      "nwoundus  misses:  35.611009901426044 % entries.\n",
      "nwoundte  misses:  38.05526966112796 % entries.\n",
      "property  misses:  0.0 % entries.\n",
      "propextent  misses:  64.7395853399453 % entries.\n",
      "propextent_txt  misses:  64.7395853399453 % entries.\n",
      "propvalue  misses:  78.54103945710024 % entries.\n",
      "propcomment  misses:  68.10023611516256 % entries.\n",
      "ishostkid  misses:  0.09796852898602572 % entries.\n",
      "nhostkid  misses:  92.53017485731269 % entries.\n",
      "nhostkidus  misses:  92.56044603199939 % entries.\n",
      "nhours  misses:  97.76378576814481 % entries.\n",
      "ndays  misses:  95.52867230627824 % entries.\n",
      "divert  misses:  99.82167526184566 % entries.\n",
      "kidhijcountry  misses:  98.18097759382688 % entries.\n",
      "ransom  misses:  57.41065875579968 % entries.\n",
      "ransomamt  misses:  99.25698025769026 % entries.\n",
      "ransomamtus  misses:  99.69013324820712 % entries.\n",
      "ransompaid  misses:  99.57400201440907 % entries.\n",
      "ransompaidus  misses:  99.69618748314446 % entries.\n",
      "ransomnote  misses:  99.71710211292799 % entries.\n",
      "hostkidoutcome  misses:  93.95071852761006 % entries.\n",
      "hostkidoutcome_txt  misses:  93.95071852761006 % entries.\n",
      "nreleased  misses:  94.27599605924344 % entries.\n",
      "addnotes  misses:  84.43015889614786 % entries.\n",
      "scite1  misses:  36.430533157943984 % entries.\n",
      "scite2  misses:  57.65723123324766 % entries.\n",
      "scite3  misses:  76.04944658788823 % entries.\n",
      "dbsource  misses:  0.0 % entries.\n",
      "INT_LOG  misses:  0.0 % entries.\n",
      "INT_IDEO  misses:  0.0 % entries.\n",
      "INT_MISC  misses:  0.0 % entries.\n",
      "INT_ANY  misses:  0.0 % entries.\n",
      "related  misses:  86.21946051262859 % entries.\n"
     ]
    }
   ],
   "source": [
    "missing_data = dict()\n",
    "for column in dataset.columns:\n",
    "     missing_data[column] = 100 * sum([1 if item == True else 0 for item in dataset[column].isnull()]) / dataset[column].size\n",
    "     print(column, \" misses: \", missing_data[column], \"% entries.\")"
   ],
   "metadata": {
    "collapsed": false,
    "pycharm": {
     "name": "#%%\n"
    }
   }
  },
  {
   "cell_type": "markdown",
   "source": [
    "Remove columns missing more than 50% of data:"
   ],
   "metadata": {
    "collapsed": false,
    "pycharm": {
     "name": "#%% md\n"
    }
   }
  },
  {
   "cell_type": "code",
   "execution_count": 85,
   "outputs": [
    {
     "name": "stdout",
     "output_type": "stream",
     "text": [
      "eventid  stayed in dataset.\n",
      "iyear  stayed in dataset.\n",
      "imonth  stayed in dataset.\n",
      "iday  stayed in dataset.\n",
      "extended  stayed in dataset.\n",
      "country  stayed in dataset.\n",
      "country_txt  stayed in dataset.\n",
      "region  stayed in dataset.\n",
      "region_txt  stayed in dataset.\n",
      "provstate  stayed in dataset.\n",
      "city  stayed in dataset.\n",
      "latitude  stayed in dataset.\n",
      "longitude  stayed in dataset.\n",
      "specificity  stayed in dataset.\n",
      "vicinity  stayed in dataset.\n",
      "summary  stayed in dataset.\n",
      "crit1  stayed in dataset.\n",
      "crit2  stayed in dataset.\n",
      "crit3  stayed in dataset.\n",
      "doubtterr  stayed in dataset.\n",
      "multiple  stayed in dataset.\n",
      "success  stayed in dataset.\n",
      "suicide  stayed in dataset.\n",
      "attacktype1  stayed in dataset.\n",
      "attacktype1_txt  stayed in dataset.\n",
      "targtype1  stayed in dataset.\n",
      "targtype1_txt  stayed in dataset.\n",
      "targsubtype1  stayed in dataset.\n",
      "targsubtype1_txt  stayed in dataset.\n",
      "corp1  stayed in dataset.\n",
      "target1  stayed in dataset.\n",
      "natlty1  stayed in dataset.\n",
      "natlty1_txt  stayed in dataset.\n",
      "gname  stayed in dataset.\n",
      "guncertain1  stayed in dataset.\n",
      "individual  stayed in dataset.\n",
      "nperps  stayed in dataset.\n",
      "nperpcap  stayed in dataset.\n",
      "claimed  stayed in dataset.\n",
      "weaptype1  stayed in dataset.\n",
      "weaptype1_txt  stayed in dataset.\n",
      "weapsubtype1  stayed in dataset.\n",
      "weapsubtype1_txt  stayed in dataset.\n",
      "weapdetail  stayed in dataset.\n",
      "nkill  stayed in dataset.\n",
      "nkillus  stayed in dataset.\n",
      "nkillter  stayed in dataset.\n",
      "nwound  stayed in dataset.\n",
      "nwoundus  stayed in dataset.\n",
      "nwoundte  stayed in dataset.\n",
      "property  stayed in dataset.\n",
      "ishostkid  stayed in dataset.\n",
      "scite1  stayed in dataset.\n",
      "dbsource  stayed in dataset.\n",
      "INT_LOG  stayed in dataset.\n",
      "INT_IDEO  stayed in dataset.\n",
      "INT_MISC  stayed in dataset.\n",
      "INT_ANY  stayed in dataset.\n"
     ]
    }
   ],
   "source": [
    "dataset = dataset[[column for column in dataset.columns if missing_data[column] < 50]]\n",
    "for column in dataset:\n",
    "    print(column, \" stayed in dataset.\")"
   ],
   "metadata": {
    "collapsed": false,
    "pycharm": {
     "name": "#%%\n"
    }
   }
  }
 ],
 "metadata": {
  "kernelspec": {
   "name": "pycharm-9dc852c6",
   "language": "python",
   "display_name": "PyCharm (GlobalTerroristsAnalysis)"
  },
  "language_info": {
   "codemirror_mode": {
    "name": "ipython",
    "version": 2
   },
   "file_extension": ".py",
   "mimetype": "text/x-python",
   "name": "python",
   "nbconvert_exporter": "python",
   "pygments_lexer": "ipython2",
   "version": "2.7.6"
  }
 },
 "nbformat": 4,
 "nbformat_minor": 0
}